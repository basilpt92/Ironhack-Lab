{
 "cells": [
  {
   "cell_type": "markdown",
   "id": "710219d0",
   "metadata": {},
   "source": [
    "### Customer Analysis Round2 with Pipeline"
   ]
  },
  {
   "cell_type": "code",
   "execution_count": 47,
   "id": "58893344",
   "metadata": {},
   "outputs": [],
   "source": [
    "import pandas as pd\n",
    "import numpy as np\n",
    "import matplotlib.pyplot as plt\n",
    "import seaborn as sns\n",
    "%matplotlib inline"
   ]
  },
  {
   "cell_type": "code",
   "execution_count": 48,
   "id": "83a4c34d",
   "metadata": {},
   "outputs": [],
   "source": [
    "#Function for reading the data:\n",
    "def read_customer_data():\n",
    "    return pd.read_csv(\"Data_Marketing_Customer_Analysis_Round2.csv\")"
   ]
  },
  {
   "cell_type": "code",
   "execution_count": 64,
   "id": "261e76f9",
   "metadata": {},
   "outputs": [],
   "source": [
    "#Function for standardizing column names:\n",
    "def standardizing_column(df):\n",
    "    new_columns = df.columns.str.lower().str.replace(\" \", \"_\")\n",
    "    df.columns = new_columns\n",
    "    return df"
   ]
  },
  {
   "cell_type": "code",
   "execution_count": 50,
   "id": "97cec5b9",
   "metadata": {},
   "outputs": [],
   "source": [
    "#Function for dropping customer and unnamed:_0 columns\n",
    "def drop_cols(df):\n",
    "    df.drop(columns=[\"unnamed:_0\", \"customer\"], inplace=True)\n",
    "    return df"
   ]
  },
  {
   "cell_type": "code",
   "execution_count": 51,
   "id": "849ff065",
   "metadata": {},
   "outputs": [],
   "source": [
    "#Drop duplicates and reset index\n",
    "def drop_dupl(df):\n",
    "    df = df.drop_duplicates().reset_index()\n",
    "    df.drop(columns=[\"index\"], inplace=True)\n",
    "    return df"
   ]
  },
  {
   "cell_type": "code",
   "execution_count": 52,
   "id": "51e89772",
   "metadata": {},
   "outputs": [],
   "source": [
    "#Replacing null values\n",
    "def fill_null(df):\n",
    "    df[\"number_of_open_complaints\"] = df[\"number_of_open_complaints\"].fillna(value=0)\n",
    "    mean_months = round(df[\"months_since_last_claim\"].mean())\n",
    "    df[\"months_since_last_claim\"] = df[\"months_since_last_claim\"].fillna(value=mean_months)\n",
    "    mean_income = round(df[\"income\"].mean())\n",
    "    df[\"income\"] = df[\"income\"].fillna(value=mean_income)\n",
    "    return df"
   ]
  },
  {
   "cell_type": "code",
   "execution_count": 66,
   "id": "4f797dac",
   "metadata": {},
   "outputs": [
    {
     "data": {
      "text/plain": [
       "California    3512\n",
       "Oregon        2861\n",
       "Arizona       1918\n",
       "Nevada         987\n",
       "Washington     885\n",
       "Name: state, dtype: int64"
      ]
     },
     "execution_count": 66,
     "metadata": {},
     "output_type": "execute_result"
    }
   ],
   "source": [
    "df[\"state\"].value_counts()"
   ]
  },
  {
   "cell_type": "code",
   "execution_count": 67,
   "id": "a16c1d0c",
   "metadata": {},
   "outputs": [
    {
     "name": "stdout",
     "output_type": "stream",
     "text": [
      "<class 'pandas.core.frame.DataFrame'>\n",
      "RangeIndex: 10776 entries, 0 to 10775\n",
      "Data columns (total 25 columns):\n",
      " #   Column                         Non-Null Count  Dtype  \n",
      "---  ------                         --------------  -----  \n",
      " 0   state                          10163 non-null  object \n",
      " 1   customer_lifetime_value        10776 non-null  float64\n",
      " 2   response                       10163 non-null  object \n",
      " 3   coverage                       10776 non-null  object \n",
      " 4   education                      10776 non-null  object \n",
      " 5   effective_to_date              10776 non-null  object \n",
      " 6   employmentstatus               10776 non-null  object \n",
      " 7   gender                         10776 non-null  object \n",
      " 8   income                         10776 non-null  int64  \n",
      " 9   location_code                  10776 non-null  object \n",
      " 10  marital_status                 10776 non-null  object \n",
      " 11  monthly_premium_auto           10776 non-null  int64  \n",
      " 12  months_since_last_claim        10776 non-null  float64\n",
      " 13  months_since_policy_inception  10776 non-null  int64  \n",
      " 14  number_of_open_complaints      10776 non-null  float64\n",
      " 15  number_of_policies             10776 non-null  int64  \n",
      " 16  policy_type                    10776 non-null  object \n",
      " 17  policy                         10776 non-null  object \n",
      " 18  renew_offer_type               10776 non-null  object \n",
      " 19  sales_channel                  10776 non-null  object \n",
      " 20  total_claim_amount             10776 non-null  float64\n",
      " 21  vehicle_class                  10168 non-null  object \n",
      " 22  vehicle_size                   10168 non-null  object \n",
      " 23  vehicle_type                   5360 non-null   object \n",
      " 24  region                         10163 non-null  object \n",
      "dtypes: float64(4), int64(4), object(17)\n",
      "memory usage: 2.1+ MB\n"
     ]
    }
   ],
   "source": [
    "def region(x):\n",
    "    if x != x:\n",
    "        return x\n",
    "    else:\n",
    "        dic = {\"California\": \"West Region\", \"Oregon\": \"North West\", \"Washington\": \"East\",\n",
    "               \"Arizona\": \"Central\", \"Nevada\": \"Central\"}\n",
    "        return dic[x]\n",
    "    \n",
    "df[\"region\"] = df[\"state\"].apply(region)\n",
    "df.info()"
   ]
  },
  {
   "cell_type": "code",
   "execution_count": 68,
   "id": "3e29fd77",
   "metadata": {},
   "outputs": [
    {
     "data": {
      "text/plain": [
       "West Region    3512\n",
       "Central        2905\n",
       "North West     2861\n",
       "East            885\n",
       "Name: region, dtype: int64"
      ]
     },
     "execution_count": 68,
     "metadata": {},
     "output_type": "execute_result"
    }
   ],
   "source": [
    "df[\"region\"].value_counts()"
   ]
  },
  {
   "cell_type": "markdown",
   "id": "901be1ce",
   "metadata": {},
   "source": [
    "### Running the Pipeline"
   ]
  },
  {
   "cell_type": "code",
   "execution_count": 45,
   "id": "e60d7ebf",
   "metadata": {},
   "outputs": [
    {
     "name": "stdout",
     "output_type": "stream",
     "text": [
      "<class 'pandas.core.frame.DataFrame'>\n",
      "RangeIndex: 10776 entries, 0 to 10775\n",
      "Data columns (total 24 columns):\n",
      " #   Column                         Non-Null Count  Dtype  \n",
      "---  ------                         --------------  -----  \n",
      " 0   state                          10163 non-null  object \n",
      " 1   customer_lifetime_value        10776 non-null  float64\n",
      " 2   response                       10163 non-null  object \n",
      " 3   coverage                       10776 non-null  object \n",
      " 4   education                      10776 non-null  object \n",
      " 5   effective_to_date              10776 non-null  object \n",
      " 6   employmentstatus               10776 non-null  object \n",
      " 7   gender                         10776 non-null  object \n",
      " 8   income                         10776 non-null  int64  \n",
      " 9   location_code                  10776 non-null  object \n",
      " 10  marital_status                 10776 non-null  object \n",
      " 11  monthly_premium_auto           10776 non-null  int64  \n",
      " 12  months_since_last_claim        10776 non-null  float64\n",
      " 13  months_since_policy_inception  10776 non-null  int64  \n",
      " 14  number_of_open_complaints      10776 non-null  float64\n",
      " 15  number_of_policies             10776 non-null  int64  \n",
      " 16  policy_type                    10776 non-null  object \n",
      " 17  policy                         10776 non-null  object \n",
      " 18  renew_offer_type               10776 non-null  object \n",
      " 19  sales_channel                  10776 non-null  object \n",
      " 20  total_claim_amount             10776 non-null  float64\n",
      " 21  vehicle_class                  10168 non-null  object \n",
      " 22  vehicle_size                   10168 non-null  object \n",
      " 23  vehicle_type                   5360 non-null   object \n",
      "dtypes: float64(4), int64(4), object(16)\n",
      "memory usage: 2.0+ MB\n"
     ]
    }
   ],
   "source": [
    "df = read_customer_data().pipe(standardizing_column).pipe(drop_cols).pipe(drop_dupl).pipe(fill_null)\n",
    "df.info()"
   ]
  },
  {
   "cell_type": "markdown",
   "id": "dfc51700",
   "metadata": {},
   "source": [
    "### Plotting"
   ]
  },
  {
   "cell_type": "code",
   "execution_count": 73,
   "id": "91e58753",
   "metadata": {},
   "outputs": [],
   "source": [
    "data_plot = pd.read_csv(\"Data_Marketing_Customer_Analysis_Round2.csv\")"
   ]
  },
  {
   "cell_type": "code",
   "execution_count": 74,
   "id": "0f8ad9d1",
   "metadata": {},
   "outputs": [
    {
     "data": {
      "text/html": [
       "<div>\n",
       "<style scoped>\n",
       "    .dataframe tbody tr th:only-of-type {\n",
       "        vertical-align: middle;\n",
       "    }\n",
       "\n",
       "    .dataframe tbody tr th {\n",
       "        vertical-align: top;\n",
       "    }\n",
       "\n",
       "    .dataframe thead th {\n",
       "        text-align: right;\n",
       "    }\n",
       "</style>\n",
       "<table border=\"1\" class=\"dataframe\">\n",
       "  <thead>\n",
       "    <tr style=\"text-align: right;\">\n",
       "      <th></th>\n",
       "      <th>Unnamed: 0</th>\n",
       "      <th>Customer</th>\n",
       "      <th>State</th>\n",
       "      <th>Customer Lifetime Value</th>\n",
       "      <th>Response</th>\n",
       "      <th>Coverage</th>\n",
       "      <th>Education</th>\n",
       "      <th>Effective To Date</th>\n",
       "      <th>EmploymentStatus</th>\n",
       "      <th>Gender</th>\n",
       "      <th>...</th>\n",
       "      <th>Number of Open Complaints</th>\n",
       "      <th>Number of Policies</th>\n",
       "      <th>Policy Type</th>\n",
       "      <th>Policy</th>\n",
       "      <th>Renew Offer Type</th>\n",
       "      <th>Sales Channel</th>\n",
       "      <th>Total Claim Amount</th>\n",
       "      <th>Vehicle Class</th>\n",
       "      <th>Vehicle Size</th>\n",
       "      <th>Vehicle Type</th>\n",
       "    </tr>\n",
       "  </thead>\n",
       "  <tbody>\n",
       "    <tr>\n",
       "      <th>0</th>\n",
       "      <td>0</td>\n",
       "      <td>DK49336</td>\n",
       "      <td>Arizona</td>\n",
       "      <td>4809.216960</td>\n",
       "      <td>No</td>\n",
       "      <td>Basic</td>\n",
       "      <td>College</td>\n",
       "      <td>2/18/11</td>\n",
       "      <td>Employed</td>\n",
       "      <td>M</td>\n",
       "      <td>...</td>\n",
       "      <td>0.0</td>\n",
       "      <td>9</td>\n",
       "      <td>Corporate Auto</td>\n",
       "      <td>Corporate L3</td>\n",
       "      <td>Offer3</td>\n",
       "      <td>Agent</td>\n",
       "      <td>292.800000</td>\n",
       "      <td>Four-Door Car</td>\n",
       "      <td>Medsize</td>\n",
       "      <td>NaN</td>\n",
       "    </tr>\n",
       "    <tr>\n",
       "      <th>1</th>\n",
       "      <td>1</td>\n",
       "      <td>KX64629</td>\n",
       "      <td>California</td>\n",
       "      <td>2228.525238</td>\n",
       "      <td>No</td>\n",
       "      <td>Basic</td>\n",
       "      <td>College</td>\n",
       "      <td>1/18/11</td>\n",
       "      <td>Unemployed</td>\n",
       "      <td>F</td>\n",
       "      <td>...</td>\n",
       "      <td>0.0</td>\n",
       "      <td>1</td>\n",
       "      <td>Personal Auto</td>\n",
       "      <td>Personal L3</td>\n",
       "      <td>Offer4</td>\n",
       "      <td>Call Center</td>\n",
       "      <td>744.924331</td>\n",
       "      <td>Four-Door Car</td>\n",
       "      <td>Medsize</td>\n",
       "      <td>NaN</td>\n",
       "    </tr>\n",
       "    <tr>\n",
       "      <th>2</th>\n",
       "      <td>2</td>\n",
       "      <td>LZ68649</td>\n",
       "      <td>Washington</td>\n",
       "      <td>14947.917300</td>\n",
       "      <td>No</td>\n",
       "      <td>Basic</td>\n",
       "      <td>Bachelor</td>\n",
       "      <td>2/10/11</td>\n",
       "      <td>Employed</td>\n",
       "      <td>M</td>\n",
       "      <td>...</td>\n",
       "      <td>0.0</td>\n",
       "      <td>2</td>\n",
       "      <td>Personal Auto</td>\n",
       "      <td>Personal L3</td>\n",
       "      <td>Offer3</td>\n",
       "      <td>Call Center</td>\n",
       "      <td>480.000000</td>\n",
       "      <td>SUV</td>\n",
       "      <td>Medsize</td>\n",
       "      <td>A</td>\n",
       "    </tr>\n",
       "    <tr>\n",
       "      <th>3</th>\n",
       "      <td>3</td>\n",
       "      <td>XL78013</td>\n",
       "      <td>Oregon</td>\n",
       "      <td>22332.439460</td>\n",
       "      <td>Yes</td>\n",
       "      <td>Extended</td>\n",
       "      <td>College</td>\n",
       "      <td>1/11/11</td>\n",
       "      <td>Employed</td>\n",
       "      <td>M</td>\n",
       "      <td>...</td>\n",
       "      <td>0.0</td>\n",
       "      <td>2</td>\n",
       "      <td>Corporate Auto</td>\n",
       "      <td>Corporate L3</td>\n",
       "      <td>Offer2</td>\n",
       "      <td>Branch</td>\n",
       "      <td>484.013411</td>\n",
       "      <td>Four-Door Car</td>\n",
       "      <td>Medsize</td>\n",
       "      <td>A</td>\n",
       "    </tr>\n",
       "    <tr>\n",
       "      <th>4</th>\n",
       "      <td>4</td>\n",
       "      <td>QA50777</td>\n",
       "      <td>Oregon</td>\n",
       "      <td>9025.067525</td>\n",
       "      <td>No</td>\n",
       "      <td>Premium</td>\n",
       "      <td>Bachelor</td>\n",
       "      <td>1/17/11</td>\n",
       "      <td>Medical Leave</td>\n",
       "      <td>F</td>\n",
       "      <td>...</td>\n",
       "      <td>NaN</td>\n",
       "      <td>7</td>\n",
       "      <td>Personal Auto</td>\n",
       "      <td>Personal L2</td>\n",
       "      <td>Offer1</td>\n",
       "      <td>Branch</td>\n",
       "      <td>707.925645</td>\n",
       "      <td>Four-Door Car</td>\n",
       "      <td>Medsize</td>\n",
       "      <td>NaN</td>\n",
       "    </tr>\n",
       "  </tbody>\n",
       "</table>\n",
       "<p>5 rows × 26 columns</p>\n",
       "</div>"
      ],
      "text/plain": [
       "   Unnamed: 0 Customer       State  Customer Lifetime Value Response  \\\n",
       "0           0  DK49336     Arizona              4809.216960       No   \n",
       "1           1  KX64629  California              2228.525238       No   \n",
       "2           2  LZ68649  Washington             14947.917300       No   \n",
       "3           3  XL78013      Oregon             22332.439460      Yes   \n",
       "4           4  QA50777      Oregon              9025.067525       No   \n",
       "\n",
       "   Coverage Education Effective To Date EmploymentStatus Gender  ...  \\\n",
       "0     Basic   College           2/18/11         Employed      M  ...   \n",
       "1     Basic   College           1/18/11       Unemployed      F  ...   \n",
       "2     Basic  Bachelor           2/10/11         Employed      M  ...   \n",
       "3  Extended   College           1/11/11         Employed      M  ...   \n",
       "4   Premium  Bachelor           1/17/11    Medical Leave      F  ...   \n",
       "\n",
       "   Number of Open Complaints Number of Policies     Policy Type        Policy  \\\n",
       "0                        0.0                  9  Corporate Auto  Corporate L3   \n",
       "1                        0.0                  1   Personal Auto   Personal L3   \n",
       "2                        0.0                  2   Personal Auto   Personal L3   \n",
       "3                        0.0                  2  Corporate Auto  Corporate L3   \n",
       "4                        NaN                  7   Personal Auto   Personal L2   \n",
       "\n",
       "   Renew Offer Type  Sales Channel  Total Claim Amount  Vehicle Class  \\\n",
       "0            Offer3          Agent          292.800000  Four-Door Car   \n",
       "1            Offer4    Call Center          744.924331  Four-Door Car   \n",
       "2            Offer3    Call Center          480.000000            SUV   \n",
       "3            Offer2         Branch          484.013411  Four-Door Car   \n",
       "4            Offer1         Branch          707.925645  Four-Door Car   \n",
       "\n",
       "  Vehicle Size Vehicle Type  \n",
       "0      Medsize          NaN  \n",
       "1      Medsize          NaN  \n",
       "2      Medsize            A  \n",
       "3      Medsize            A  \n",
       "4      Medsize          NaN  \n",
       "\n",
       "[5 rows x 26 columns]"
      ]
     },
     "execution_count": 74,
     "metadata": {},
     "output_type": "execute_result"
    }
   ],
   "source": [
    "data_plot.head()"
   ]
  },
  {
   "cell_type": "code",
   "execution_count": 85,
   "id": "7b403316",
   "metadata": {},
   "outputs": [],
   "source": [
    "Response = data_plot['Response'].value_counts()"
   ]
  },
  {
   "cell_type": "code",
   "execution_count": 86,
   "id": "37398b6f",
   "metadata": {},
   "outputs": [
    {
     "data": {
      "text/plain": [
       "No     8813\n",
       "Yes    1466\n",
       "Name: Response, dtype: int64"
      ]
     },
     "execution_count": 86,
     "metadata": {},
     "output_type": "execute_result"
    }
   ],
   "source": [
    "Response"
   ]
  },
  {
   "cell_type": "markdown",
   "id": "98f4dbe4",
   "metadata": {},
   "source": [
    "### Plot of the total number of responses."
   ]
  },
  {
   "cell_type": "code",
   "execution_count": 88,
   "id": "eec05da8",
   "metadata": {},
   "outputs": [
    {
     "data": {
      "text/plain": [
       "<AxesSubplot:title={'center':'Overall Response'}, ylabel='Response'>"
      ]
     },
     "execution_count": 88,
     "metadata": {},
     "output_type": "execute_result"
    },
    {
     "data": {
      "image/png": "[encoded data removed]",
      "text/plain": [
       "<Figure size 432x288 with 1 Axes>"
      ]
     },
     "metadata": {
      "needs_background": "light"
     },
     "output_type": "display_data"
    }
   ],
   "source": [
    "# create figure and axes\n",
    "# subplots()\n",
    "fig3, ax3 = plt.subplots()\n",
    "# set title\n",
    "# set_title()\n",
    "ax3.set_title(\"Overall Response\")\n",
    "# plot the bar chart\n",
    "# bar()\n",
    "\n",
    "sns.barplot(x=Response.index ,y =Response)"
   ]
  },
  {
   "cell_type": "markdown",
   "id": "24e47f4d",
   "metadata": {},
   "source": [
    "### Plot of the response rate by the sales channel"
   ]
  },
  {
   "cell_type": "code",
   "execution_count": 89,
   "id": "d4771e1e",
   "metadata": {},
   "outputs": [
    {
     "data": {
      "image/png": "[encoded data removed]",
      "text/plain": [
       "<Figure size 432x288 with 1 Axes>"
      ]
     },
     "metadata": {
      "needs_background": "light"
     },
     "output_type": "display_data"
    }
   ],
   "source": [
    "# plot of the response rate by the sales channel.\n",
    "\n",
    "\n",
    "p=sns.countplot(data=data_plot, y=\"Sales Channel\", hue=\"Response\", saturation=1)"
   ]
  },
  {
   "cell_type": "markdown",
   "id": "63a44386",
   "metadata": {},
   "source": [
    "### Plot of the response rate by the total claim amount"
   ]
  },
  {
   "cell_type": "code",
   "execution_count": 90,
   "id": "869eda82",
   "metadata": {},
   "outputs": [
    {
     "data": {
      "image/png": "[encoded data removed]",
      "text/plain": [
       "<Figure size 432x288 with 1 Axes>"
      ]
     },
     "metadata": {
      "needs_background": "light"
     },
     "output_type": "display_data"
    }
   ],
   "source": [
    "v=sns.barplot(data=data_plot, y=\"Total Claim Amount\", x=\"Response\")"
   ]
  },
  {
   "cell_type": "markdown",
   "id": "6c93de45",
   "metadata": {},
   "source": [
    "### Plot of the response rate by income"
   ]
  },
  {
   "cell_type": "code",
   "execution_count": 91,
   "id": "9fd96e40",
   "metadata": {},
   "outputs": [
    {
     "data": {
      "image/png": "[encoded data removed]",
      "text/plain": [
       "<Figure size 432x288 with 1 Axes>"
      ]
     },
     "metadata": {
      "needs_background": "light"
     },
     "output_type": "display_data"
    }
   ],
   "source": [
    "f=sns.barplot(data=data_plot, y=\"Income\", x=\"Response\")"
   ]
  },
  {
   "cell_type": "code",
   "execution_count": null,
   "id": "0c599b57",
   "metadata": {},
   "outputs": [],
   "source": []
  }
 ],
 "metadata": {
  "kernelspec": {
   "display_name": "Python 3",
   "language": "python",
   "name": "python3"
  },
  "language_info": {
   "codemirror_mode": {
    "name": "ipython",
    "version": 3
   },
   "file_extension": ".py",
   "mimetype": "text/x-python",
   "name": "python",
   "nbconvert_exporter": "python",
   "pygments_lexer": "ipython3",
   "version": "3.8.8"
  }
 },
 "nbformat": 4,
 "nbformat_minor": 5
}
