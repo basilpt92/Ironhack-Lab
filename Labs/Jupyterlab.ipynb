{
 "cells": [
  {
   "cell_type": "markdown",
   "id": "8f1e7d3d",
   "metadata": {},
   "source": [
    "### **Meet my friend Andres**\n"
   ]
  },
  {
   "cell_type": "markdown",
   "id": "8cc68324",
   "metadata": {},
   "source": [
    "### The Purpose of this notebook is to tell about the holiday destination of my friend Andres.  "
   ]
  },
  {
   "cell_type": "code",
   "execution_count": 1,
   "id": "f1ba3455",
   "metadata": {},
   "outputs": [
    {
     "name": "stdout",
     "output_type": "stream",
     "text": [
      " Name of the friend : Andres\n"
     ]
    }
   ],
   "source": [
    "def name():\n",
    "    name = input(\" Name of the friend : \")\n",
    "    \n",
    "name = name()\n"
   ]
  },
  {
   "cell_type": "markdown",
   "id": "ba14c4d2",
   "metadata": {},
   "source": [
    "![alt text](https://www.markdownguide.org/assets/images/tux.png)"
   ]
  },
  {
   "cell_type": "code",
   "execution_count": 25,
   "id": "3ed039ff",
   "metadata": {},
   "outputs": [
    {
     "name": "stdout",
     "output_type": "stream",
     "text": [
      "What's your dream holiday destination ? New York\n",
      "His Favourite destination is New York\n"
     ]
    }
   ],
   "source": [
    "def holiday():\n",
    "    destination = input(\"What's your dream holiday destination ? \")\n",
    "    return destination\n",
    "\n",
    "destination = holiday()\n",
    "\n",
    "print(\"His Favourite destination is\", destination)\n",
    "\n"
   ]
  },
  {
   "cell_type": "markdown",
   "id": "179d3a90",
   "metadata": {},
   "source": [
    "### Photo of New york"
   ]
  },
  {
   "cell_type": "markdown",
   "id": "dcd1e20f",
   "metadata": {},
   "source": [
    "![alt text](pic.png \"Title\")"
   ]
  },
  {
   "cell_type": "markdown",
   "id": "3e484cb2",
   "metadata": {},
   "source": [
    "### The things Andres likes to do at New York\n",
    "\n",
    "* Sight seeing\n",
    "* Visiting Museums\n",
    "* Walk through brooklyn bridge\n"
   ]
  },
  {
   "cell_type": "markdown",
   "id": "ec8bc426",
   "metadata": {},
   "source": [
    "### Some glimpse of New york city\n",
    "\n"
   ]
  },
  {
   "cell_type": "markdown",
   "id": "de100d02",
   "metadata": {},
   "source": [
    "![alt text](https://www.youtube.com/watch?v=MRAZ_mSLXrA)"
   ]
  },
  {
   "cell_type": "code",
   "execution_count": null,
   "id": "139f58a6",
   "metadata": {},
   "outputs": [],
   "source": []
  }
 ],
 "metadata": {
  "celltoolbar": "Slideshow",
  "kernelspec": {
   "display_name": "Python 3 (ipykernel)",
   "language": "python",
   "name": "python3"
  },
  "language_info": {
   "codemirror_mode": {
    "name": "ipython",
    "version": 3
   },
   "file_extension": ".py",
   "mimetype": "text/x-python",
   "name": "python",
   "nbconvert_exporter": "python",
   "pygments_lexer": "ipython3",
   "version": "3.9.6"
  }
 },
 "nbformat": 4,
 "nbformat_minor": 5
}
