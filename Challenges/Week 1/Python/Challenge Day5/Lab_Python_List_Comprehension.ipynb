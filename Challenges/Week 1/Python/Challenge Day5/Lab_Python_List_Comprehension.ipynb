{
 "cells": [
  {
   "cell_type": "markdown",
   "id": "a836f789",
   "metadata": {},
   "source": [
    "# Lab Python List Comprehension"
   ]
  },
  {
   "cell_type": "markdown",
   "id": "0e09ac40",
   "metadata": {},
   "source": [
    "1. let's say we need to create a list of integers which specify the length of each word in a certain sentence, but only if the word is not the word \"the\"."
   ]
  },
  {
   "cell_type": "code",
   "execution_count": 2,
   "id": "ae10b087",
   "metadata": {},
   "outputs": [
    {
     "name": "stdout",
     "output_type": "stream",
     "text": [
      "['the', 'quick', 'brown', 'fox', 'jumps', 'over', 'the', 'lazy', 'dog']\n",
      "[5, 5, 3, 5, 4, 4, 3]\n"
     ]
    }
   ],
   "source": [
    "sentence = \"the quick brown fox jumps over the lazy dog\"\n",
    "words = sentence.split()\n",
    "word_lengths = []\n",
    "for word in words:\n",
    "      if word != \"the\":\n",
    "          word_lengths.append(len(word))\n",
    "print(words)\n",
    "print(word_lengths)"
   ]
  },
  {
   "cell_type": "markdown",
   "id": "e65f8cf0",
   "metadata": {},
   "source": [
    "Using a list comprehension, we could simplify this process to this notation:"
   ]
  },
  {
   "cell_type": "code",
   "execution_count": 4,
   "id": "98d22960",
   "metadata": {},
   "outputs": [
    {
     "name": "stdout",
     "output_type": "stream",
     "text": [
      "[5, 5, 3, 5, 4, 4, 3]\n"
     ]
    }
   ],
   "source": [
    "####. Your Code here\n",
    "updated_words = [len(word) for word in sentence.split() if word != \"the\"] \n",
    "print(updated_words)"
   ]
  },
  {
   "cell_type": "markdown",
   "id": "4c099be7",
   "metadata": {},
   "source": [
    "2. Using a list comprehension, create a new list called \"newlist\" out of the list \"numbers\", which contains only the positive numbers AND only odd numbers from the list, as integers."
   ]
  },
  {
   "cell_type": "code",
   "execution_count": 8,
   "id": "5e97aca7",
   "metadata": {},
   "outputs": [
    {
     "name": "stdout",
     "output_type": "stream",
     "text": [
      "[15, 7, 19]\n"
     ]
    }
   ],
   "source": [
    "numbers = [34.6, -203, 44.9, 68, -12, 44, 12, 15,7,19]\n",
    "\n",
    "##### Your code is here\n",
    "\n",
    "newlist = [digit for digit in numbers if digit >= 0 and digit % 2 == 1]  \n",
    "\n",
    "print(newlist)"
   ]
  }
 ],
 "metadata": {
  "kernelspec": {
   "display_name": "Python 3 (ipykernel)",
   "language": "python",
   "name": "python3"
  },
  "language_info": {
   "codemirror_mode": {
    "name": "ipython",
    "version": 3
   },
   "file_extension": ".py",
   "mimetype": "text/x-python",
   "name": "python",
   "nbconvert_exporter": "python",
   "pygments_lexer": "ipython3",
   "version": "3.9.6"
  }
 },
 "nbformat": 4,
 "nbformat_minor": 5
}
